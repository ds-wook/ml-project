{
 "cells": [
  {
   "cell_type": "code",
   "execution_count": 1,
   "metadata": {
    "_kg_hide-output": true,
    "execution": {
     "iopub.execute_input": "2021-06-01T06:45:20.495522Z",
     "iopub.status.busy": "2021-06-01T06:45:20.495039Z",
     "iopub.status.idle": "2021-06-01T06:45:31.289417Z",
     "shell.execute_reply": "2021-06-01T06:45:31.288547Z",
     "shell.execute_reply.started": "2021-06-01T06:45:20.495485Z"
    },
    "scrolled": true
   },
   "outputs": [
    {
     "name": "stdout",
     "output_type": "stream",
     "text": [
      "Requirement already satisfied: efficientnet_pytorch in /opt/conda/lib/python3.7/site-packages (0.7.1)\n",
      "Requirement already satisfied: torchtoolbox in /opt/conda/lib/python3.7/site-packages (0.1.5)\n",
      "Requirement already satisfied: torch in /opt/conda/lib/python3.7/site-packages (from efficientnet_pytorch) (1.5.0)\n",
      "Requirement already satisfied: tqdm in /opt/conda/lib/python3.7/site-packages (from torchtoolbox) (4.45.0)\n",
      "Requirement already satisfied: six in /opt/conda/lib/python3.7/site-packages (from torchtoolbox) (1.14.0)\n",
      "Requirement already satisfied: lmdb in /opt/conda/lib/python3.7/site-packages (from torchtoolbox) (1.2.1)\n",
      "Requirement already satisfied: scipy in /opt/conda/lib/python3.7/site-packages (from torchtoolbox) (1.4.1)\n",
      "Requirement already satisfied: pyarrow in /opt/conda/lib/python3.7/site-packages (from torchtoolbox) (0.16.0)\n",
      "Requirement already satisfied: scikit-learn in /opt/conda/lib/python3.7/site-packages (from torchtoolbox) (0.22.2.post1)\n",
      "Requirement already satisfied: opencv-python in /opt/conda/lib/python3.7/site-packages (from torchtoolbox) (4.2.0.34)\n",
      "Requirement already satisfied: numpy in /opt/conda/lib/python3.7/site-packages (from torchtoolbox) (1.18.1)\n",
      "Requirement already satisfied: future in /opt/conda/lib/python3.7/site-packages (from torch->efficientnet_pytorch) (0.18.2)\n",
      "Requirement already satisfied: joblib>=0.11 in /opt/conda/lib/python3.7/site-packages (from scikit-learn->torchtoolbox) (0.14.1)\n",
      "\u001b[33mWARNING: You are using pip version 20.1; however, version 21.1.2 is available.\n",
      "You should consider upgrading via the '/opt/conda/bin/python3.7 -m pip install --upgrade pip' command.\u001b[0m\n",
      "Requirement already satisfied: chart_studio in /opt/conda/lib/python3.7/site-packages (1.1.0)\n",
      "Requirement already satisfied: retrying>=1.3.3 in /opt/conda/lib/python3.7/site-packages (from chart_studio) (1.3.3)\n",
      "Requirement already satisfied: requests in /opt/conda/lib/python3.7/site-packages (from chart_studio) (2.23.0)\n",
      "Requirement already satisfied: six in /opt/conda/lib/python3.7/site-packages (from chart_studio) (1.14.0)\n",
      "Requirement already satisfied: plotly in /opt/conda/lib/python3.7/site-packages (from chart_studio) (4.7.1)\n",
      "Requirement already satisfied: urllib3!=1.25.0,!=1.25.1,<1.26,>=1.21.1 in /opt/conda/lib/python3.7/site-packages (from requests->chart_studio) (1.24.3)\n",
      "Requirement already satisfied: certifi>=2017.4.17 in /opt/conda/lib/python3.7/site-packages (from requests->chart_studio) (2020.4.5.1)\n",
      "Requirement already satisfied: idna<3,>=2.5 in /opt/conda/lib/python3.7/site-packages (from requests->chart_studio) (2.9)\n",
      "Requirement already satisfied: chardet<4,>=3.0.2 in /opt/conda/lib/python3.7/site-packages (from requests->chart_studio) (3.0.4)\n",
      "\u001b[33mWARNING: You are using pip version 20.1; however, version 21.1.2 is available.\n",
      "You should consider upgrading via the '/opt/conda/bin/python3.7 -m pip install --upgrade pip' command.\u001b[0m\n"
     ]
    }
   ],
   "source": [
    "!pip install efficientnet_pytorch torchtoolbox\n",
    "!pip install chart_studio"
   ]
  },
  {
   "cell_type": "code",
   "execution_count": 2,
   "metadata": {
    "_cell_guid": "b1076dfc-b9ad-4769-8c92-a6c4dae69d19",
    "_uuid": "8f2839f25d086af736a60e9eeb907d3b93b6e0e5",
    "execution": {
     "iopub.execute_input": "2021-06-01T06:45:31.291354Z",
     "iopub.status.busy": "2021-06-01T06:45:31.290968Z",
     "iopub.status.idle": "2021-06-01T06:45:32.226890Z",
     "shell.execute_reply": "2021-06-01T06:45:32.226107Z",
     "shell.execute_reply.started": "2021-06-01T06:45:31.291308Z"
    }
   },
   "outputs": [],
   "source": [
    "import torch\n",
    "import torchvision\n",
    "import torch.nn.functional as F\n",
    "import torch.nn as nn\n",
    "import torchtoolbox.transform as transforms\n",
    "from torch.utils.data import Dataset, DataLoader, Subset\n",
    "from torch.optim.lr_scheduler import ReduceLROnPlateau\n",
    "from sklearn.metrics import accuracy_score, roc_auc_score\n",
    "from sklearn.model_selection import StratifiedKFold, GroupKFold, KFold\n",
    "import pandas as pd\n",
    "import numpy as np\n",
    "import gc\n",
    "import os\n",
    "import cv2\n",
    "import time\n",
    "import datetime\n",
    "import warnings\n",
    "import random\n",
    "import matplotlib.pyplot as plt\n",
    "import seaborn as sns\n",
    "from efficientnet_pytorch import EfficientNet\n",
    "\n",
    "%matplotlib inline"
   ]
  },
  {
   "cell_type": "code",
   "execution_count": 3,
   "metadata": {
    "execution": {
     "iopub.execute_input": "2021-06-01T06:45:32.228530Z",
     "iopub.status.busy": "2021-06-01T06:45:32.228145Z",
     "iopub.status.idle": "2021-06-01T06:45:32.237677Z",
     "shell.execute_reply": "2021-06-01T06:45:32.236669Z",
     "shell.execute_reply.started": "2021-06-01T06:45:32.228476Z"
    }
   },
   "outputs": [],
   "source": [
    "warnings.simplefilter(\"ignore\")\n",
    "\n",
    "\n",
    "def seed_everything(seed):\n",
    "    random.seed(seed)\n",
    "    os.environ[\"PYTHONHASHSEED\"] = str(seed)\n",
    "    np.random.seed(seed)\n",
    "    torch.manual_seed(seed)\n",
    "    torch.cuda.manual_seed(seed)\n",
    "    torch.backends.cudnn.deterministic = True\n",
    "    torch.backends.cudnn.benchmark = True\n",
    "\n",
    "\n",
    "seed_everything(47)"
   ]
  },
  {
   "cell_type": "code",
   "execution_count": 4,
   "metadata": {
    "execution": {
     "iopub.execute_input": "2021-06-01T06:45:32.239862Z",
     "iopub.status.busy": "2021-06-01T06:45:32.239338Z",
     "iopub.status.idle": "2021-06-01T06:45:32.275084Z",
     "shell.execute_reply": "2021-06-01T06:45:32.274355Z",
     "shell.execute_reply.started": "2021-06-01T06:45:32.239821Z"
    }
   },
   "outputs": [],
   "source": [
    "device = torch.device(\"cuda\" if torch.cuda.is_available() else \"cpu\")"
   ]
  },
  {
   "cell_type": "code",
   "execution_count": 5,
   "metadata": {
    "execution": {
     "iopub.execute_input": "2021-06-01T06:45:32.278762Z",
     "iopub.status.busy": "2021-06-01T06:45:32.278479Z",
     "iopub.status.idle": "2021-06-01T06:45:32.299700Z",
     "shell.execute_reply": "2021-06-01T06:45:32.298861Z",
     "shell.execute_reply.started": "2021-06-01T06:45:32.278734Z"
    }
   },
   "outputs": [],
   "source": [
    "class MelanomaDataset(Dataset):\n",
    "    def __init__(\n",
    "        self,\n",
    "        df: pd.DataFrame,\n",
    "        imfolder: str,\n",
    "        train: bool = True,\n",
    "        transforms=None,\n",
    "        meta_features=None,\n",
    "    ):\n",
    "        self.df = df\n",
    "        self.imfolder = imfolder\n",
    "        self.transforms = transforms\n",
    "        self.train = train\n",
    "        self.meta_features = meta_features\n",
    "\n",
    "    def __getitem__(self, index):\n",
    "        im_path = os.path.join(\n",
    "            self.imfolder, self.df.iloc[index][\"image_name\"] + \".jpg\"\n",
    "        )\n",
    "        x = cv2.imread(im_path)\n",
    "        meta = np.array(\n",
    "            self.df.iloc[index][self.meta_features].values, dtype=np.float32\n",
    "        )\n",
    "\n",
    "        if self.transforms:\n",
    "            x = self.transforms(x)\n",
    "\n",
    "        if self.train:\n",
    "            y = self.df.iloc[index][\"target\"]\n",
    "            return (x, meta), y\n",
    "        else:\n",
    "            return (x, meta)\n",
    "\n",
    "    def __len__(self):\n",
    "        return len(self.df)\n",
    "\n",
    "\n",
    "class Net(nn.Module):\n",
    "    def __init__(self, arch, n_meta_features: int):\n",
    "        super(Net, self).__init__()\n",
    "        self.arch = arch\n",
    "        if \"ResNet\" in str(arch.__class__):\n",
    "            self.arch.fc = nn.Linear(in_features=512, out_features=500, bias=True)\n",
    "        if \"EfficientNet\" in str(arch.__class__):\n",
    "            self.arch._fc = nn.Linear(in_features=1280, out_features=500, bias=True)\n",
    "        self.meta = nn.Sequential(\n",
    "            nn.Linear(n_meta_features, 500),\n",
    "            nn.BatchNorm1d(500),\n",
    "            nn.ReLU(),\n",
    "            nn.Dropout(p=0.2),\n",
    "            nn.Linear(500, 250),\n",
    "            nn.BatchNorm1d(250),\n",
    "            nn.ReLU(),\n",
    "            nn.Dropout(p=0.2),\n",
    "        )\n",
    "        self.ouput = nn.Linear(500 + 250, 1)\n",
    "\n",
    "    def forward(self, inputs):\n",
    "        x, meta = inputs\n",
    "        cnn_features = self.arch(x)\n",
    "        meta_features = self.meta(meta)\n",
    "        features = torch.cat((cnn_features, meta_features), dim=1)\n",
    "        output = self.ouput(features)\n",
    "        return output"
   ]
  },
  {
   "cell_type": "code",
   "execution_count": 6,
   "metadata": {
    "execution": {
     "iopub.execute_input": "2021-06-01T06:45:32.304197Z",
     "iopub.status.busy": "2021-06-01T06:45:32.303916Z",
     "iopub.status.idle": "2021-06-01T06:45:32.320052Z",
     "shell.execute_reply": "2021-06-01T06:45:32.319227Z",
     "shell.execute_reply.started": "2021-06-01T06:45:32.304171Z"
    }
   },
   "outputs": [],
   "source": [
    "class AdvancedHairAugmentation:\n",
    "    def __init__(self, hairs: int = 5, hairs_folder: str = \"\"):\n",
    "        self.hairs = hairs\n",
    "        self.hairs_folder = hairs_folder\n",
    "\n",
    "    def __call__(self, img):\n",
    "        n_hairs = random.randint(0, self.hairs)\n",
    "\n",
    "        if not n_hairs:\n",
    "            return img\n",
    "\n",
    "        height, width, _ = img.shape  # target image width and height\n",
    "        hair_images = [im for im in os.listdir(self.hairs_folder) if \"png\" in im]\n",
    "\n",
    "        for _ in range(n_hairs):\n",
    "            hair = cv2.imread(\n",
    "                os.path.join(self.hairs_folder, random.choice(hair_images))\n",
    "            )\n",
    "            hair = cv2.flip(hair, random.choice([-1, 0, 1]))\n",
    "            hair = cv2.rotate(hair, random.choice([0, 1, 2]))\n",
    "\n",
    "            h_height, h_width, _ = hair.shape  # hair image width and height\n",
    "            roi_ho = random.randint(0, img.shape[0] - hair.shape[0])\n",
    "            roi_wo = random.randint(0, img.shape[1] - hair.shape[1])\n",
    "            roi = img[roi_ho : roi_ho + h_height, roi_wo : roi_wo + h_width]\n",
    "\n",
    "            # Creating a mask and inverse mask\n",
    "            img2gray = cv2.cvtColor(hair, cv2.COLOR_BGR2GRAY)\n",
    "            ret, mask = cv2.threshold(img2gray, 10, 255, cv2.THRESH_BINARY)\n",
    "            mask_inv = cv2.bitwise_not(mask)\n",
    "\n",
    "            # Now black-out the area of hair in ROI\n",
    "            img_bg = cv2.bitwise_and(roi, roi, mask=mask_inv)\n",
    "\n",
    "            # Take only region of hair from hair image.\n",
    "            hair_fg = cv2.bitwise_and(hair, hair, mask=mask)\n",
    "\n",
    "            # Put hair in ROI and modify the target image\n",
    "            dst = cv2.add(img_bg, hair_fg)\n",
    "\n",
    "            img[roi_ho : roi_ho + h_height, roi_wo : roi_wo + h_width] = dst\n",
    "\n",
    "        return img\n",
    "\n",
    "    def __repr__(self):\n",
    "        return f'{self.__class__.__name__}(hairs={self.hairs}, hairs_folder=\"{self.hairs_folder}\")'"
   ]
  },
  {
   "cell_type": "code",
   "execution_count": 7,
   "metadata": {
    "execution": {
     "iopub.execute_input": "2021-06-01T06:45:32.322573Z",
     "iopub.status.busy": "2021-06-01T06:45:32.322001Z",
     "iopub.status.idle": "2021-06-01T06:45:32.334793Z",
     "shell.execute_reply": "2021-06-01T06:45:32.333937Z",
     "shell.execute_reply.started": "2021-06-01T06:45:32.322525Z"
    }
   },
   "outputs": [],
   "source": [
    "class DrawHair:\n",
    "    def __init__(self, hairs: int = 4, width: tuple = (1, 2)):\n",
    "        self.hairs = hairs\n",
    "        self.width = width\n",
    "\n",
    "    def __call__(self, img):\n",
    "        if not self.hairs:\n",
    "            return img\n",
    "\n",
    "        width, height, _ = img.shape\n",
    "\n",
    "        for _ in range(random.randint(0, self.hairs)):\n",
    "            # The origin point of the line will always be at the top half of the image\n",
    "            origin = (random.randint(0, width), random.randint(0, height // 2))\n",
    "            # The end of the line\n",
    "            end = (random.randint(0, width), random.randint(0, height))\n",
    "            color = (0, 0, 0)  # color of the hair. Black.\n",
    "            cv2.line(\n",
    "                img, origin, end, color, random.randint(self.width[0], self.width[1])\n",
    "            )\n",
    "\n",
    "        return img\n",
    "\n",
    "    def __repr__(self):\n",
    "        return f\"{self.__class__.__name__}(hairs={self.hairs}, width={self.width})\""
   ]
  },
  {
   "cell_type": "code",
   "execution_count": 8,
   "metadata": {
    "execution": {
     "iopub.execute_input": "2021-06-01T06:45:32.336856Z",
     "iopub.status.busy": "2021-06-01T06:45:32.336095Z",
     "iopub.status.idle": "2021-06-01T06:45:32.349719Z",
     "shell.execute_reply": "2021-06-01T06:45:32.348981Z",
     "shell.execute_reply.started": "2021-06-01T06:45:32.336793Z"
    }
   },
   "outputs": [],
   "source": [
    "class Microscope:\n",
    "    def __init__(self, p: float = 0.5):\n",
    "        self.p = p\n",
    "\n",
    "    def __call__(self, img):\n",
    "        if random.random() < self.p:\n",
    "            circle = cv2.circle(\n",
    "                (np.ones(img.shape) * 255).astype(np.uint8),  # image placeholder\n",
    "                (img.shape[0] // 2, img.shape[1] // 2),  # center point of circle\n",
    "                random.randint(img.shape[0] // 2 - 3, img.shape[0] // 2 + 15),  # radius\n",
    "                (0, 0, 0),  # color\n",
    "                -1,\n",
    "            )\n",
    "\n",
    "            mask = circle - 255\n",
    "            img = np.multiply(img, mask)\n",
    "\n",
    "        return img\n",
    "\n",
    "    def __repr__(self):\n",
    "        return f\"{self.__class__.__name__}(p={self.p})\""
   ]
  },
  {
   "cell_type": "code",
   "execution_count": 9,
   "metadata": {
    "execution": {
     "iopub.execute_input": "2021-06-01T06:45:32.351799Z",
     "iopub.status.busy": "2021-06-01T06:45:32.351176Z",
     "iopub.status.idle": "2021-06-01T06:45:32.361423Z",
     "shell.execute_reply": "2021-06-01T06:45:32.360372Z",
     "shell.execute_reply.started": "2021-06-01T06:45:32.351759Z"
    }
   },
   "outputs": [],
   "source": [
    "train_transform = transforms.Compose(\n",
    "    [\n",
    "        AdvancedHairAugmentation(hairs_folder=\"/kaggle/input/melanoma-hairs\"),\n",
    "        transforms.RandomResizedCrop(size=256, scale=(0.8, 1.0)),\n",
    "        transforms.RandomHorizontalFlip(),\n",
    "        transforms.RandomVerticalFlip(),\n",
    "        Microscope(p=0.5),\n",
    "        transforms.ToTensor(),\n",
    "        transforms.Normalize(mean=[0.485, 0.456, 0.406], std=[0.229, 0.224, 0.225]),\n",
    "    ]\n",
    ")\n",
    "test_transform = transforms.Compose(\n",
    "    [\n",
    "        transforms.ToTensor(),\n",
    "        transforms.Normalize(mean=[0.485, 0.456, 0.406], std=[0.229, 0.224, 0.225]),\n",
    "    ]\n",
    ")"
   ]
  },
  {
   "cell_type": "code",
   "execution_count": 10,
   "metadata": {
    "execution": {
     "iopub.execute_input": "2021-06-01T06:45:32.363216Z",
     "iopub.status.busy": "2021-06-01T06:45:32.362766Z",
     "iopub.status.idle": "2021-06-01T06:45:32.538063Z",
     "shell.execute_reply": "2021-06-01T06:45:32.537156Z",
     "shell.execute_reply.started": "2021-06-01T06:45:32.363174Z"
    }
   },
   "outputs": [
    {
     "name": "stdout",
     "output_type": "stream",
     "text": [
      "Loaded pretrained weights for efficientnet-b1\n"
     ]
    }
   ],
   "source": [
    "arch = EfficientNet.from_pretrained(\"efficientnet-b1\")"
   ]
  },
  {
   "cell_type": "code",
   "execution_count": 11,
   "metadata": {
    "execution": {
     "iopub.execute_input": "2021-06-01T06:45:32.539658Z",
     "iopub.status.busy": "2021-06-01T06:45:32.539310Z",
     "iopub.status.idle": "2021-06-01T06:45:32.595398Z",
     "shell.execute_reply": "2021-06-01T06:45:32.594599Z",
     "shell.execute_reply.started": "2021-06-01T06:45:32.539628Z"
    }
   },
   "outputs": [],
   "source": [
    "train_df = pd.read_csv(\"/kaggle/input/jpeg-melanoma-256x256/train.csv\")"
   ]
  },
  {
   "cell_type": "code",
   "execution_count": 12,
   "metadata": {
    "execution": {
     "iopub.execute_input": "2021-06-01T06:45:32.597110Z",
     "iopub.status.busy": "2021-06-01T06:45:32.596707Z",
     "iopub.status.idle": "2021-06-01T06:45:32.631237Z",
     "shell.execute_reply": "2021-06-01T06:45:32.630530Z",
     "shell.execute_reply.started": "2021-06-01T06:45:32.597068Z"
    }
   },
   "outputs": [],
   "source": [
    "# One-hot encoding of anatom_site_general_challenge feature\n",
    "dummies = pd.get_dummies(\n",
    "    train_df[\"anatom_site_general_challenge\"],\n",
    "    dummy_na=True,\n",
    "    dtype=np.uint8,\n",
    "    prefix=\"site\",\n",
    ")\n",
    "train_df = pd.concat([train_df, dummies.iloc[: train_df.shape[0]]], axis=1)\n",
    "\n",
    "# Sex features\n",
    "train_df[\"sex\"] = train_df[\"sex\"].map({\"male\": 1, \"female\": 0})\n",
    "train_df[\"sex\"] = train_df[\"sex\"].fillna(-1)\n",
    "\n",
    "# Age features\n",
    "train_df[\"age_approx\"] /= train_df[\"age_approx\"].max()\n",
    "train_df[\"age_approx\"] = train_df[\"age_approx\"].fillna(0)\n",
    "train_df[\"patient_id\"] = train_df[\"patient_id\"].fillna(0)"
   ]
  },
  {
   "cell_type": "code",
   "execution_count": 13,
   "metadata": {
    "execution": {
     "iopub.execute_input": "2021-06-01T06:45:32.632820Z",
     "iopub.status.busy": "2021-06-01T06:45:32.632486Z",
     "iopub.status.idle": "2021-06-01T06:45:32.637228Z",
     "shell.execute_reply": "2021-06-01T06:45:32.636397Z",
     "shell.execute_reply.started": "2021-06-01T06:45:32.632791Z"
    }
   },
   "outputs": [],
   "source": [
    "meta_features = [\"sex\", \"age_approx\"] + [\n",
    "    col for col in train_df.columns if \"site_\" in col\n",
    "]\n",
    "meta_features.remove(\"anatom_site_general_challenge\")"
   ]
  },
  {
   "cell_type": "code",
   "execution_count": 14,
   "metadata": {
    "execution": {
     "iopub.execute_input": "2021-06-01T06:45:32.639161Z",
     "iopub.status.busy": "2021-06-01T06:45:32.638623Z",
     "iopub.status.idle": "2021-06-01T06:45:32.660975Z",
     "shell.execute_reply": "2021-06-01T06:45:32.660235Z",
     "shell.execute_reply.started": "2021-06-01T06:45:32.639122Z"
    }
   },
   "outputs": [],
   "source": [
    "from sklearn.model_selection import train_test_split\n",
    "\n",
    "X = train_df.drop(\"target\", axis=1)\n",
    "y = train_df[\"target\"]\n",
    "\n",
    "X_train, X_test, y_train, y_test = train_test_split(\n",
    "    X, y, test_size=0.2, random_state=42\n",
    ")"
   ]
  },
  {
   "cell_type": "code",
   "execution_count": 15,
   "metadata": {
    "execution": {
     "iopub.execute_input": "2021-06-01T06:45:32.664065Z",
     "iopub.status.busy": "2021-06-01T06:45:32.663819Z",
     "iopub.status.idle": "2021-06-01T06:45:32.668804Z",
     "shell.execute_reply": "2021-06-01T06:45:32.667976Z",
     "shell.execute_reply.started": "2021-06-01T06:45:32.664039Z"
    }
   },
   "outputs": [],
   "source": [
    "X_train[\"target\"] = y_train"
   ]
  },
  {
   "cell_type": "code",
   "execution_count": 16,
   "metadata": {
    "execution": {
     "iopub.execute_input": "2021-06-01T06:45:32.670912Z",
     "iopub.status.busy": "2021-06-01T06:45:32.670282Z",
     "iopub.status.idle": "2021-06-01T06:45:32.679790Z",
     "shell.execute_reply": "2021-06-01T06:45:32.678810Z",
     "shell.execute_reply.started": "2021-06-01T06:45:32.670873Z"
    }
   },
   "outputs": [],
   "source": [
    "test = MelanomaDataset(\n",
    "    df=X_test.reset_index(drop=True),\n",
    "    imfolder=\"/kaggle/input/melanoma-external-malignant-256/train/train/\",\n",
    "    train=False,\n",
    "    transforms=train_transform,  # For TTA\n",
    "    meta_features=meta_features,\n",
    ")"
   ]
  },
  {
   "cell_type": "code",
   "execution_count": 17,
   "metadata": {
    "execution": {
     "iopub.execute_input": "2021-06-01T06:45:32.682820Z",
     "iopub.status.busy": "2021-06-01T06:45:32.682438Z",
     "iopub.status.idle": "2021-06-01T06:45:32.689019Z",
     "shell.execute_reply": "2021-06-01T06:45:32.688070Z",
     "shell.execute_reply.started": "2021-06-01T06:45:32.682781Z"
    }
   },
   "outputs": [],
   "source": [
    "skf = GroupKFold(n_splits=5)"
   ]
  },
  {
   "cell_type": "code",
   "execution_count": 18,
   "metadata": {
    "execution": {
     "iopub.execute_input": "2021-06-01T06:45:32.690938Z",
     "iopub.status.busy": "2021-06-01T06:45:32.690554Z",
     "iopub.status.idle": "2021-06-01T10:36:31.606380Z",
     "shell.execute_reply": "2021-06-01T10:36:31.605394Z",
     "shell.execute_reply.started": "2021-06-01T06:45:32.690898Z"
    }
   },
   "outputs": [
    {
     "name": "stdout",
     "output_type": "stream",
     "text": [
      "==================== Fold 1 ====================\n",
      "Loaded pretrained weights for efficientnet-b1\n",
      "Epoch 001: | Loss: 28.794 | Train acc: 0.982 | Val acc: 0.981 | Val roc_auc: 0.758 | Training time: 0:04:25\n",
      "Epoch 002: | Loss: 24.972 | Train acc: 0.983 | Val acc: 0.981 | Val roc_auc: 0.820 | Training time: 0:04:21\n",
      "Epoch 003: | Loss: 24.701 | Train acc: 0.983 | Val acc: 0.981 | Val roc_auc: 0.807 | Training time: 0:04:23\n",
      "Epoch 004: | Loss: 24.355 | Train acc: 0.983 | Val acc: 0.981 | Val roc_auc: 0.866 | Training time: 0:04:22\n",
      "Epoch 005: | Loss: 24.327 | Train acc: 0.983 | Val acc: 0.981 | Val roc_auc: 0.822 | Training time: 0:04:23\n",
      "Epoch 006: | Loss: 24.021 | Train acc: 0.983 | Val acc: 0.981 | Val roc_auc: 0.892 | Training time: 0:04:23\n",
      "Epoch 007: | Loss: 23.197 | Train acc: 0.983 | Val acc: 0.981 | Val roc_auc: 0.870 | Training time: 0:04:24\n",
      "Epoch 008: | Loss: 23.163 | Train acc: 0.983 | Val acc: 0.981 | Val roc_auc: 0.887 | Training time: 0:04:26\n",
      "Epoch     8: reducing learning rate of group 0 to 2.0000e-04.\n",
      "Epoch 009: | Loss: 21.605 | Train acc: 0.983 | Val acc: 0.981 | Val roc_auc: 0.902 | Training time: 0:04:25\n",
      "Epoch 010: | Loss: 20.829 | Train acc: 0.983 | Val acc: 0.981 | Val roc_auc: 0.913 | Training time: 0:04:26\n",
      "==================== Fold 2 ====================\n",
      "Loaded pretrained weights for efficientnet-b1\n",
      "Epoch 001: | Loss: 30.536 | Train acc: 0.978 | Val acc: 0.983 | Val roc_auc: 0.868 | Training time: 0:04:28\n",
      "Epoch 002: | Loss: 24.965 | Train acc: 0.982 | Val acc: 0.983 | Val roc_auc: 0.859 | Training time: 0:04:27\n",
      "Epoch 003: | Loss: 24.681 | Train acc: 0.982 | Val acc: 0.983 | Val roc_auc: 0.861 | Training time: 0:04:31\n",
      "Epoch     3: reducing learning rate of group 0 to 2.0000e-04.\n",
      "Epoch 004: | Loss: 22.014 | Train acc: 0.982 | Val acc: 0.983 | Val roc_auc: 0.887 | Training time: 0:04:29\n",
      "Epoch 005: | Loss: 20.633 | Train acc: 0.982 | Val acc: 0.983 | Val roc_auc: 0.896 | Training time: 0:04:31\n",
      "Epoch 006: | Loss: 19.875 | Train acc: 0.982 | Val acc: 0.983 | Val roc_auc: 0.880 | Training time: 0:04:30\n",
      "Epoch 007: | Loss: 19.311 | Train acc: 0.982 | Val acc: 0.982 | Val roc_auc: 0.891 | Training time: 0:04:30\n",
      "Epoch     7: reducing learning rate of group 0 to 4.0000e-05.\n",
      "Epoch 008: | Loss: 16.793 | Train acc: 0.983 | Val acc: 0.982 | Val roc_auc: 0.895 | Training time: 0:04:31\n",
      "Early stopping. Best Val roc_auc: 0.896\n",
      "==================== Fold 3 ====================\n",
      "Loaded pretrained weights for efficientnet-b1\n",
      "Epoch 001: | Loss: 29.718 | Train acc: 0.979 | Val acc: 0.983 | Val roc_auc: 0.807 | Training time: 0:04:27\n",
      "Epoch 002: | Loss: 25.550 | Train acc: 0.982 | Val acc: 0.983 | Val roc_auc: 0.651 | Training time: 0:04:27\n",
      "Epoch 003: | Loss: 25.154 | Train acc: 0.982 | Val acc: 0.983 | Val roc_auc: 0.823 | Training time: 0:04:27\n",
      "Epoch 004: | Loss: 24.122 | Train acc: 0.982 | Val acc: 0.983 | Val roc_auc: 0.847 | Training time: 0:04:27\n",
      "Epoch 005: | Loss: 23.990 | Train acc: 0.982 | Val acc: 0.983 | Val roc_auc: 0.820 | Training time: 0:04:27\n",
      "Epoch 006: | Loss: 23.218 | Train acc: 0.982 | Val acc: 0.983 | Val roc_auc: 0.711 | Training time: 0:04:27\n",
      "Epoch     6: reducing learning rate of group 0 to 2.0000e-04.\n",
      "Epoch 007: | Loss: 22.280 | Train acc: 0.982 | Val acc: 0.982 | Val roc_auc: 0.867 | Training time: 0:04:28\n",
      "Epoch 008: | Loss: 20.983 | Train acc: 0.982 | Val acc: 0.982 | Val roc_auc: 0.868 | Training time: 0:04:27\n",
      "Epoch 009: | Loss: 20.653 | Train acc: 0.982 | Val acc: 0.982 | Val roc_auc: 0.885 | Training time: 0:04:26\n",
      "Epoch 010: | Loss: 19.547 | Train acc: 0.982 | Val acc: 0.982 | Val roc_auc: 0.877 | Training time: 0:04:26\n",
      "==================== Fold 4 ====================\n",
      "Loaded pretrained weights for efficientnet-b1\n",
      "Epoch 001: | Loss: 30.214 | Train acc: 0.980 | Val acc: 0.983 | Val roc_auc: 0.872 | Training time: 0:04:26\n",
      "Epoch 002: | Loss: 25.578 | Train acc: 0.982 | Val acc: 0.983 | Val roc_auc: 0.864 | Training time: 0:04:27\n",
      "Epoch 003: | Loss: 25.640 | Train acc: 0.982 | Val acc: 0.983 | Val roc_auc: 0.869 | Training time: 0:04:28\n",
      "Epoch     3: reducing learning rate of group 0 to 2.0000e-04.\n",
      "Epoch 004: | Loss: 23.009 | Train acc: 0.982 | Val acc: 0.983 | Val roc_auc: 0.876 | Training time: 0:04:26\n",
      "Epoch 005: | Loss: 22.449 | Train acc: 0.982 | Val acc: 0.983 | Val roc_auc: 0.905 | Training time: 0:04:27\n",
      "Epoch 006: | Loss: 21.950 | Train acc: 0.982 | Val acc: 0.983 | Val roc_auc: 0.908 | Training time: 0:04:24\n",
      "Epoch 007: | Loss: 21.337 | Train acc: 0.983 | Val acc: 0.983 | Val roc_auc: 0.908 | Training time: 0:04:24\n",
      "Epoch 008: | Loss: 20.750 | Train acc: 0.982 | Val acc: 0.983 | Val roc_auc: 0.913 | Training time: 0:04:25\n",
      "Epoch 009: | Loss: 20.622 | Train acc: 0.982 | Val acc: 0.983 | Val roc_auc: 0.893 | Training time: 0:04:25\n",
      "Epoch 010: | Loss: 18.759 | Train acc: 0.983 | Val acc: 0.983 | Val roc_auc: 0.894 | Training time: 0:04:22\n",
      "Epoch    10: reducing learning rate of group 0 to 4.0000e-05.\n",
      "==================== Fold 5 ====================\n",
      "Loaded pretrained weights for efficientnet-b1\n",
      "Epoch 001: | Loss: 29.959 | Train acc: 0.980 | Val acc: 0.983 | Val roc_auc: 0.819 | Training time: 0:04:23\n",
      "Epoch 002: | Loss: 25.067 | Train acc: 0.982 | Val acc: 0.983 | Val roc_auc: 0.840 | Training time: 0:04:21\n",
      "Epoch 003: | Loss: 24.114 | Train acc: 0.982 | Val acc: 0.983 | Val roc_auc: 0.820 | Training time: 0:04:22\n",
      "Epoch 004: | Loss: 23.716 | Train acc: 0.982 | Val acc: 0.982 | Val roc_auc: 0.764 | Training time: 0:04:22\n",
      "Epoch     4: reducing learning rate of group 0 to 2.0000e-04.\n",
      "Epoch 005: | Loss: 21.851 | Train acc: 0.982 | Val acc: 0.982 | Val roc_auc: 0.853 | Training time: 0:04:24\n",
      "Epoch 006: | Loss: 20.690 | Train acc: 0.982 | Val acc: 0.982 | Val roc_auc: 0.847 | Training time: 0:04:28\n",
      "Epoch 007: | Loss: 19.622 | Train acc: 0.982 | Val acc: 0.982 | Val roc_auc: 0.848 | Training time: 0:04:23\n",
      "Epoch     7: reducing learning rate of group 0 to 4.0000e-05.\n",
      "Epoch 008: | Loss: 18.218 | Train acc: 0.983 | Val acc: 0.982 | Val roc_auc: 0.854 | Training time: 0:04:26\n",
      "Epoch 009: | Loss: 17.490 | Train acc: 0.983 | Val acc: 0.982 | Val roc_auc: 0.860 | Training time: 0:04:24\n",
      "Epoch 010: | Loss: 17.265 | Train acc: 0.983 | Val acc: 0.982 | Val roc_auc: 0.860 | Training time: 0:04:24\n"
     ]
    }
   ],
   "source": [
    "epochs = 10  # Number of epochs to run\n",
    "es_patience = 3  # Early Stopping Patience\n",
    "TTA = 3  # Test Time Augmentation rounds\n",
    "\n",
    "oof = np.zeros((len(X_train), 1))  # Out Of Fold predictions\n",
    "preds = torch.zeros(\n",
    "    (len(test), 1), dtype=torch.float32, device=device\n",
    ")  # Predictions for test test\n",
    "\n",
    "# skf = KFold(n_splits=5, shuffle=True, random_state=47)\n",
    "for fold, (train_idx, val_idx) in enumerate(\n",
    "    skf.split(\n",
    "        X=np.zeros(len(X_train)),\n",
    "        y=y_train,\n",
    "        groups=X_train[\"patient_id\"].tolist(),\n",
    "    ),\n",
    "    1,\n",
    "):\n",
    "    print(\"=\" * 20, \"Fold\", fold, \"=\" * 20)\n",
    "\n",
    "    model_path = f\"model_{fold}.pth\"  # Path and filename to save model to\n",
    "    best_val = 0  # Best validation score within this fold\n",
    "    patience = es_patience  # Current patience counter\n",
    "    arch = EfficientNet.from_pretrained(\"efficientnet-b1\")\n",
    "    model = Net(\n",
    "        arch=arch, n_meta_features=len(meta_features)\n",
    "    )  # New model for each fold\n",
    "    model = model.to(device)\n",
    "\n",
    "    optim = torch.optim.Adam(model.parameters(), lr=0.001)\n",
    "    scheduler = ReduceLROnPlateau(\n",
    "        optimizer=optim, mode=\"max\", patience=1, verbose=True, factor=0.2\n",
    "    )\n",
    "    criterion = nn.BCEWithLogitsLoss()\n",
    "\n",
    "    train = MelanomaDataset(\n",
    "        df=X_train.iloc[train_idx].reset_index(drop=True),\n",
    "        imfolder=\"/kaggle/input/melanoma-external-malignant-256/train/train/\",\n",
    "        train=True,\n",
    "        transforms=train_transform,\n",
    "        meta_features=meta_features,\n",
    "    )\n",
    "    val = MelanomaDataset(\n",
    "        df=X_train.iloc[val_idx].reset_index(drop=True),\n",
    "        imfolder=\"/kaggle/input/melanoma-external-malignant-256/train/train/\",\n",
    "        train=True,\n",
    "        transforms=test_transform,\n",
    "        meta_features=meta_features,\n",
    "    )\n",
    "\n",
    "    train_loader = DataLoader(dataset=train, batch_size=64, shuffle=True, num_workers=2)\n",
    "    val_loader = DataLoader(dataset=val, batch_size=16, shuffle=False, num_workers=2)\n",
    "    test_loader = DataLoader(dataset=test, batch_size=16, shuffle=False, num_workers=2)\n",
    "\n",
    "    for epoch in range(epochs):\n",
    "        start_time = time.time()\n",
    "        correct = 0\n",
    "        epoch_loss = 0\n",
    "        model.train()\n",
    "\n",
    "        for x, y in train_loader:\n",
    "            x[0] = torch.tensor(x[0], device=device, dtype=torch.float32)\n",
    "            x[1] = torch.tensor(x[1], device=device, dtype=torch.float32)\n",
    "            y = torch.tensor(y, device=device, dtype=torch.float32)\n",
    "            optim.zero_grad()\n",
    "            z = model(x)\n",
    "            loss = criterion(z, y.unsqueeze(1))\n",
    "            loss.backward()\n",
    "            optim.step()\n",
    "            pred = torch.round(torch.sigmoid(z))\n",
    "            correct += (pred.cpu() == y.cpu().unsqueeze(1)).sum().item()\n",
    "            epoch_loss += loss.item()\n",
    "        train_acc = correct / len(train_idx)\n",
    "\n",
    "        model.eval()\n",
    "        val_preds = torch.zeros((len(val_idx), 1), dtype=torch.float32, device=device)\n",
    "        with torch.no_grad():\n",
    "            # Predicting on validation set\n",
    "            for j, (x_val, y_val) in enumerate(val_loader):\n",
    "                x_val[0] = torch.tensor(x_val[0], device=device, dtype=torch.float32)\n",
    "                x_val[1] = torch.tensor(x_val[1], device=device, dtype=torch.float32)\n",
    "                y_val = torch.tensor(y_val, device=device, dtype=torch.float32)\n",
    "                z_val = model(x_val)\n",
    "                val_pred = torch.sigmoid(z_val)\n",
    "                val_preds[\n",
    "                    j * val_loader.batch_size : j * val_loader.batch_size\n",
    "                    + x_val[0].shape[0]\n",
    "                ] = val_pred\n",
    "            val_acc = accuracy_score(\n",
    "                X_train.iloc[val_idx][\"target\"].values, torch.round(val_preds.cpu())\n",
    "            )\n",
    "            val_roc = roc_auc_score(\n",
    "                X_train.iloc[val_idx][\"target\"].values, val_preds.cpu()\n",
    "            )\n",
    "\n",
    "            print(\n",
    "                \"Epoch {:03}: | Loss: {:.3f} | Train acc: {:.3f} | Val acc: {:.3f} | Val roc_auc: {:.3f} | Training time: {}\".format(\n",
    "                    epoch + 1,\n",
    "                    epoch_loss,\n",
    "                    train_acc,\n",
    "                    val_acc,\n",
    "                    val_roc,\n",
    "                    str(datetime.timedelta(seconds=time.time() - start_time))[:7],\n",
    "                )\n",
    "            )\n",
    "\n",
    "            scheduler.step(val_roc)\n",
    "\n",
    "            if val_roc >= best_val:\n",
    "                best_val = val_roc\n",
    "                patience = es_patience\n",
    "                torch.save(model, model_path)\n",
    "            else:\n",
    "                patience -= 1\n",
    "                if patience == 0:\n",
    "                    print(\"Early stopping. Best Val roc_auc: {:.3f}\".format(best_val))\n",
    "                    break\n",
    "\n",
    "    model = torch.load(model_path)\n",
    "    model.eval()\n",
    "    val_preds = torch.zeros((len(val_idx), 1), dtype=torch.float32, device=device)\n",
    "\n",
    "    with torch.no_grad():\n",
    "        for j, (x_val, y_val) in enumerate(val_loader):\n",
    "            x_val[0] = torch.tensor(x_val[0], device=device, dtype=torch.float32)\n",
    "            x_val[1] = torch.tensor(x_val[1], device=device, dtype=torch.float32)\n",
    "            y_val = torch.tensor(y_val, device=device, dtype=torch.float32)\n",
    "            z_val = model(x_val)\n",
    "            val_pred = torch.sigmoid(z_val)\n",
    "            val_preds[\n",
    "                j * val_loader.batch_size : j * val_loader.batch_size\n",
    "                + x_val[0].shape[0]\n",
    "            ] = val_pred\n",
    "        oof[val_idx] = val_preds.cpu().numpy()\n",
    "\n",
    "        tta_preds = torch.zeros((len(test), 1), dtype=torch.float32, device=device)\n",
    "        for _ in range(TTA):\n",
    "            for i, x_test in enumerate(test_loader):\n",
    "                x_test[0] = torch.tensor(x_test[0], device=device, dtype=torch.float32)\n",
    "                x_test[1] = torch.tensor(x_test[1], device=device, dtype=torch.float32)\n",
    "                z_test = model(x_test)\n",
    "                z_test = torch.sigmoid(z_test)\n",
    "                tta_preds[\n",
    "                    i * test_loader.batch_size : i * test_loader.batch_size\n",
    "                    + x_test[0].shape[0]\n",
    "                ] += z_test\n",
    "        preds += tta_preds / TTA\n",
    "\n",
    "preds /= skf.n_splits"
   ]
  },
  {
   "cell_type": "code",
   "execution_count": 19,
   "metadata": {
    "execution": {
     "iopub.execute_input": "2021-06-01T10:36:31.608375Z",
     "iopub.status.busy": "2021-06-01T10:36:31.608003Z",
     "iopub.status.idle": "2021-06-01T10:36:31.627120Z",
     "shell.execute_reply": "2021-06-01T10:36:31.626317Z",
     "shell.execute_reply.started": "2021-06-01T10:36:31.608332Z"
    }
   },
   "outputs": [
    {
     "name": "stdout",
     "output_type": "stream",
     "text": [
      "OOF: 0.88075\n",
      "Test Score: 0.90292\n"
     ]
    }
   ],
   "source": [
    "print(f\"OOF: {roc_auc_score(y_train, oof):.5f}\")\n",
    "print(f\"Test Score: {roc_auc_score(y_test.values, preds.cpu().numpy().flatten()):.5f}\")"
   ]
  },
  {
   "cell_type": "code",
   "execution_count": 20,
   "metadata": {
    "execution": {
     "iopub.execute_input": "2021-06-01T10:36:31.629209Z",
     "iopub.status.busy": "2021-06-01T10:36:31.628712Z",
     "iopub.status.idle": "2021-06-01T10:36:31.761488Z",
     "shell.execute_reply": "2021-06-01T10:36:31.760461Z",
     "shell.execute_reply.started": "2021-06-01T10:36:31.629158Z"
    }
   },
   "outputs": [
    {
     "data": {
      "image/png": "[encoded data removed]",
      "text/plain": [
       "<Figure size 432x288 with 1 Axes>"
      ]
     },
     "metadata": {
      "needs_background": "light"
     },
     "output_type": "display_data"
    }
   ],
   "source": [
    "sns.kdeplot(\n",
    "    pd.Series(\n",
    "        preds.cpu()\n",
    "        .numpy()\n",
    "        .reshape(\n",
    "            -1,\n",
    "        )\n",
    "    )\n",
    ")"
   ]
  },
  {
   "cell_type": "code",
   "execution_count": 21,
   "metadata": {
    "execution": {
     "iopub.execute_input": "2021-06-01T10:36:31.763426Z",
     "iopub.status.busy": "2021-06-01T10:36:31.763030Z",
     "iopub.status.idle": "2021-06-01T10:36:31.932321Z",
     "shell.execute_reply": "2021-06-01T10:36:31.931556Z",
     "shell.execute_reply.started": "2021-06-01T10:36:31.763385Z"
    }
   },
   "outputs": [],
   "source": [
    "# Saving OOF predictions so stacking would be easier\n",
    "pd.Series(\n",
    "    oof.reshape(\n",
    "        -1,\n",
    "    )\n",
    ").to_csv(\"oof.csv\", index=False)"
   ]
  },
  {
   "cell_type": "code",
   "execution_count": 22,
   "metadata": {
    "execution": {
     "iopub.execute_input": "2021-06-01T10:36:31.934680Z",
     "iopub.status.busy": "2021-06-01T10:36:31.934137Z",
     "iopub.status.idle": "2021-06-01T10:36:31.967950Z",
     "shell.execute_reply": "2021-06-01T10:36:31.967326Z",
     "shell.execute_reply.started": "2021-06-01T10:36:31.934642Z"
    }
   },
   "outputs": [],
   "source": [
    "sub = pd.DataFrame(X_test[\"image_name\"])\n",
    "sub[\"target\"] = (\n",
    "    preds.cpu()\n",
    "    .numpy()\n",
    "    .reshape(\n",
    "        -1,\n",
    "    )\n",
    ")\n",
    "sub.to_csv(\"submission.csv\", index=False)"
   ]
  }
 ],
 "metadata": {
  "kernelspec": {
   "display_name": "Python 3",
   "language": "python",
   "name": "python3"
  },
  "language_info": {
   "codemirror_mode": {
    "name": "ipython",
    "version": 3
   },
   "file_extension": ".py",
   "mimetype": "text/x-python",
   "name": "python",
   "nbconvert_exporter": "python",
   "pygments_lexer": "ipython3",
   "version": "3.8.8"
  }
 },
 "nbformat": 4,
 "nbformat_minor": 4
}
