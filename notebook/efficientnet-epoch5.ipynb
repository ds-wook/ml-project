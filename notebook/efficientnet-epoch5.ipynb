{
 "cells": [
  {
   "cell_type": "code",
   "execution_count": 1,
   "metadata": {
    "_kg_hide-output": true,
    "execution": {
     "iopub.execute_input": "2021-06-01T04:00:14.837777Z",
     "iopub.status.busy": "2021-06-01T04:00:14.837224Z",
     "iopub.status.idle": "2021-06-01T04:00:25.757023Z",
     "shell.execute_reply": "2021-06-01T04:00:25.755973Z",
     "shell.execute_reply.started": "2021-06-01T04:00:14.837665Z"
    }
   },
   "outputs": [
    {
     "name": "stdout",
     "output_type": "stream",
     "text": [
      "Requirement already satisfied: efficientnet_pytorch in /opt/conda/lib/python3.7/site-packages (0.7.1)\n",
      "Requirement already satisfied: torchtoolbox in /opt/conda/lib/python3.7/site-packages (0.1.5)\n",
      "Requirement already satisfied: torch in /opt/conda/lib/python3.7/site-packages (from efficientnet_pytorch) (1.5.0)\n",
      "Requirement already satisfied: six in /opt/conda/lib/python3.7/site-packages (from torchtoolbox) (1.14.0)\n",
      "Requirement already satisfied: pyarrow in /opt/conda/lib/python3.7/site-packages (from torchtoolbox) (0.16.0)\n",
      "Requirement already satisfied: tqdm in /opt/conda/lib/python3.7/site-packages (from torchtoolbox) (4.45.0)\n",
      "Requirement already satisfied: scipy in /opt/conda/lib/python3.7/site-packages (from torchtoolbox) (1.4.1)\n",
      "Requirement already satisfied: lmdb in /opt/conda/lib/python3.7/site-packages (from torchtoolbox) (1.2.1)\n",
      "Requirement already satisfied: opencv-python in /opt/conda/lib/python3.7/site-packages (from torchtoolbox) (4.2.0.34)\n",
      "Requirement already satisfied: numpy in /opt/conda/lib/python3.7/site-packages (from torchtoolbox) (1.18.1)\n",
      "Requirement already satisfied: scikit-learn in /opt/conda/lib/python3.7/site-packages (from torchtoolbox) (0.22.2.post1)\n",
      "Requirement already satisfied: future in /opt/conda/lib/python3.7/site-packages (from torch->efficientnet_pytorch) (0.18.2)\n",
      "Requirement already satisfied: joblib>=0.11 in /opt/conda/lib/python3.7/site-packages (from scikit-learn->torchtoolbox) (0.14.1)\n",
      "\u001b[33mWARNING: You are using pip version 20.1; however, version 21.1.2 is available.\n",
      "You should consider upgrading via the '/opt/conda/bin/python3.7 -m pip install --upgrade pip' command.\u001b[0m\n",
      "Requirement already satisfied: chart_studio in /opt/conda/lib/python3.7/site-packages (1.1.0)\n",
      "Requirement already satisfied: plotly in /opt/conda/lib/python3.7/site-packages (from chart_studio) (4.7.1)\n",
      "Requirement already satisfied: retrying>=1.3.3 in /opt/conda/lib/python3.7/site-packages (from chart_studio) (1.3.3)\n",
      "Requirement already satisfied: six in /opt/conda/lib/python3.7/site-packages (from chart_studio) (1.14.0)\n",
      "Requirement already satisfied: requests in /opt/conda/lib/python3.7/site-packages (from chart_studio) (2.23.0)\n",
      "Requirement already satisfied: certifi>=2017.4.17 in /opt/conda/lib/python3.7/site-packages (from requests->chart_studio) (2020.4.5.1)\n",
      "Requirement already satisfied: urllib3!=1.25.0,!=1.25.1,<1.26,>=1.21.1 in /opt/conda/lib/python3.7/site-packages (from requests->chart_studio) (1.24.3)\n",
      "Requirement already satisfied: chardet<4,>=3.0.2 in /opt/conda/lib/python3.7/site-packages (from requests->chart_studio) (3.0.4)\n",
      "Requirement already satisfied: idna<3,>=2.5 in /opt/conda/lib/python3.7/site-packages (from requests->chart_studio) (2.9)\n",
      "\u001b[33mWARNING: You are using pip version 20.1; however, version 21.1.2 is available.\n",
      "You should consider upgrading via the '/opt/conda/bin/python3.7 -m pip install --upgrade pip' command.\u001b[0m\n"
     ]
    }
   ],
   "source": [
    "!pip install efficientnet_pytorch torchtoolbox\n",
    "!pip install chart_studio"
   ]
  },
  {
   "cell_type": "code",
   "execution_count": 2,
   "metadata": {
    "_cell_guid": "b1076dfc-b9ad-4769-8c92-a6c4dae69d19",
    "_uuid": "8f2839f25d086af736a60e9eeb907d3b93b6e0e5",
    "execution": {
     "iopub.execute_input": "2021-06-01T04:00:25.759584Z",
     "iopub.status.busy": "2021-06-01T04:00:25.759216Z",
     "iopub.status.idle": "2021-06-01T04:00:26.704520Z",
     "shell.execute_reply": "2021-06-01T04:00:26.703735Z",
     "shell.execute_reply.started": "2021-06-01T04:00:25.759546Z"
    }
   },
   "outputs": [],
   "source": [
    "import torch\n",
    "import torchvision\n",
    "import torch.nn.functional as F\n",
    "import torch.nn as nn\n",
    "import torchtoolbox.transform as transforms\n",
    "from torch.utils.data import Dataset, DataLoader, Subset\n",
    "from torch.optim.lr_scheduler import ReduceLROnPlateau\n",
    "from sklearn.metrics import accuracy_score, roc_auc_score\n",
    "from sklearn.model_selection import StratifiedKFold, GroupKFold, KFold\n",
    "import pandas as pd\n",
    "import numpy as np\n",
    "import gc\n",
    "import os\n",
    "import cv2\n",
    "import time\n",
    "import datetime\n",
    "import warnings\n",
    "import random\n",
    "import matplotlib.pyplot as plt\n",
    "import seaborn as sns\n",
    "from efficientnet_pytorch import EfficientNet\n",
    "\n",
    "%matplotlib inline"
   ]
  },
  {
   "cell_type": "code",
   "execution_count": 3,
   "metadata": {
    "execution": {
     "iopub.execute_input": "2021-06-01T04:00:26.706064Z",
     "iopub.status.busy": "2021-06-01T04:00:26.705730Z",
     "iopub.status.idle": "2021-06-01T04:00:26.716439Z",
     "shell.execute_reply": "2021-06-01T04:00:26.715651Z",
     "shell.execute_reply.started": "2021-06-01T04:00:26.706029Z"
    }
   },
   "outputs": [],
   "source": [
    "warnings.simplefilter(\"ignore\")\n",
    "\n",
    "\n",
    "def seed_everything(seed):\n",
    "    random.seed(seed)\n",
    "    os.environ[\"PYTHONHASHSEED\"] = str(seed)\n",
    "    np.random.seed(seed)\n",
    "    torch.manual_seed(seed)\n",
    "    torch.cuda.manual_seed(seed)\n",
    "    torch.backends.cudnn.deterministic = True\n",
    "    torch.backends.cudnn.benchmark = True\n",
    "\n",
    "\n",
    "seed_everything(47)"
   ]
  },
  {
   "cell_type": "code",
   "execution_count": 4,
   "metadata": {
    "execution": {
     "iopub.execute_input": "2021-06-01T04:00:26.718779Z",
     "iopub.status.busy": "2021-06-01T04:00:26.718346Z",
     "iopub.status.idle": "2021-06-01T04:00:26.749559Z",
     "shell.execute_reply": "2021-06-01T04:00:26.748659Z",
     "shell.execute_reply.started": "2021-06-01T04:00:26.718734Z"
    }
   },
   "outputs": [],
   "source": [
    "device = torch.device(\"cuda\" if torch.cuda.is_available() else \"cpu\")"
   ]
  },
  {
   "cell_type": "code",
   "execution_count": 5,
   "metadata": {
    "execution": {
     "iopub.execute_input": "2021-06-01T04:00:26.753874Z",
     "iopub.status.busy": "2021-06-01T04:00:26.753298Z",
     "iopub.status.idle": "2021-06-01T04:00:26.773138Z",
     "shell.execute_reply": "2021-06-01T04:00:26.772109Z",
     "shell.execute_reply.started": "2021-06-01T04:00:26.753830Z"
    }
   },
   "outputs": [],
   "source": [
    "class MelanomaDataset(Dataset):\n",
    "    def __init__(\n",
    "        self,\n",
    "        df: pd.DataFrame,\n",
    "        imfolder: str,\n",
    "        train: bool = True,\n",
    "        transforms=None,\n",
    "        meta_features=None,\n",
    "    ):\n",
    "        self.df = df\n",
    "        self.imfolder = imfolder\n",
    "        self.transforms = transforms\n",
    "        self.train = train\n",
    "        self.meta_features = meta_features\n",
    "\n",
    "    def __getitem__(self, index):\n",
    "        im_path = os.path.join(\n",
    "            self.imfolder, self.df.iloc[index][\"image_name\"] + \".jpg\"\n",
    "        )\n",
    "        x = cv2.imread(im_path)\n",
    "        meta = np.array(\n",
    "            self.df.iloc[index][self.meta_features].values, dtype=np.float32\n",
    "        )\n",
    "\n",
    "        if self.transforms:\n",
    "            x = self.transforms(x)\n",
    "\n",
    "        if self.train:\n",
    "            y = self.df.iloc[index][\"target\"]\n",
    "            return (x, meta), y\n",
    "        else:\n",
    "            return (x, meta)\n",
    "\n",
    "    def __len__(self):\n",
    "        return len(self.df)\n",
    "\n",
    "\n",
    "class Net(nn.Module):\n",
    "    def __init__(self, arch, n_meta_features: int):\n",
    "        super(Net, self).__init__()\n",
    "        self.arch = arch\n",
    "        if \"ResNet\" in str(arch.__class__):\n",
    "            self.arch.fc = nn.Linear(in_features=512, out_features=500, bias=True)\n",
    "        if \"EfficientNet\" in str(arch.__class__):\n",
    "            self.arch._fc = nn.Linear(in_features=1280, out_features=500, bias=True)\n",
    "        self.meta = nn.Sequential(\n",
    "            nn.Linear(n_meta_features, 500),\n",
    "            nn.BatchNorm1d(500),\n",
    "            nn.ReLU(),\n",
    "            nn.Dropout(p=0.2),\n",
    "            nn.Linear(500, 250),\n",
    "            nn.BatchNorm1d(250),\n",
    "            nn.ReLU(),\n",
    "            nn.Dropout(p=0.2),\n",
    "        )\n",
    "        self.ouput = nn.Linear(500 + 250, 1)\n",
    "\n",
    "    def forward(self, inputs):\n",
    "        x, meta = inputs\n",
    "        cnn_features = self.arch(x)\n",
    "        meta_features = self.meta(meta)\n",
    "        features = torch.cat((cnn_features, meta_features), dim=1)\n",
    "        output = self.ouput(features)\n",
    "        return output"
   ]
  },
  {
   "cell_type": "code",
   "execution_count": 6,
   "metadata": {
    "execution": {
     "iopub.execute_input": "2021-06-01T04:00:26.775842Z",
     "iopub.status.busy": "2021-06-01T04:00:26.775463Z",
     "iopub.status.idle": "2021-06-01T04:00:26.793438Z",
     "shell.execute_reply": "2021-06-01T04:00:26.792357Z",
     "shell.execute_reply.started": "2021-06-01T04:00:26.775805Z"
    }
   },
   "outputs": [],
   "source": [
    "class AdvancedHairAugmentation:\n",
    "    def __init__(self, hairs: int = 5, hairs_folder: str = \"\"):\n",
    "        self.hairs = hairs\n",
    "        self.hairs_folder = hairs_folder\n",
    "\n",
    "    def __call__(self, img):\n",
    "        n_hairs = random.randint(0, self.hairs)\n",
    "\n",
    "        if not n_hairs:\n",
    "            return img\n",
    "\n",
    "        height, width, _ = img.shape  # target image width and height\n",
    "        hair_images = [im for im in os.listdir(self.hairs_folder) if \"png\" in im]\n",
    "\n",
    "        for _ in range(n_hairs):\n",
    "            hair = cv2.imread(\n",
    "                os.path.join(self.hairs_folder, random.choice(hair_images))\n",
    "            )\n",
    "            hair = cv2.flip(hair, random.choice([-1, 0, 1]))\n",
    "            hair = cv2.rotate(hair, random.choice([0, 1, 2]))\n",
    "\n",
    "            h_height, h_width, _ = hair.shape  # hair image width and height\n",
    "            roi_ho = random.randint(0, img.shape[0] - hair.shape[0])\n",
    "            roi_wo = random.randint(0, img.shape[1] - hair.shape[1])\n",
    "            roi = img[roi_ho : roi_ho + h_height, roi_wo : roi_wo + h_width]\n",
    "\n",
    "            # Creating a mask and inverse mask\n",
    "            img2gray = cv2.cvtColor(hair, cv2.COLOR_BGR2GRAY)\n",
    "            ret, mask = cv2.threshold(img2gray, 10, 255, cv2.THRESH_BINARY)\n",
    "            mask_inv = cv2.bitwise_not(mask)\n",
    "\n",
    "            # Now black-out the area of hair in ROI\n",
    "            img_bg = cv2.bitwise_and(roi, roi, mask=mask_inv)\n",
    "\n",
    "            # Take only region of hair from hair image.\n",
    "            hair_fg = cv2.bitwise_and(hair, hair, mask=mask)\n",
    "\n",
    "            # Put hair in ROI and modify the target image\n",
    "            dst = cv2.add(img_bg, hair_fg)\n",
    "\n",
    "            img[roi_ho : roi_ho + h_height, roi_wo : roi_wo + h_width] = dst\n",
    "\n",
    "        return img\n",
    "\n",
    "    def __repr__(self):\n",
    "        return f'{self.__class__.__name__}(hairs={self.hairs}, hairs_folder=\"{self.hairs_folder}\")'"
   ]
  },
  {
   "cell_type": "code",
   "execution_count": 7,
   "metadata": {
    "execution": {
     "iopub.execute_input": "2021-06-01T04:00:26.795460Z",
     "iopub.status.busy": "2021-06-01T04:00:26.795062Z",
     "iopub.status.idle": "2021-06-01T04:00:26.808135Z",
     "shell.execute_reply": "2021-06-01T04:00:26.807225Z",
     "shell.execute_reply.started": "2021-06-01T04:00:26.795420Z"
    }
   },
   "outputs": [],
   "source": [
    "class DrawHair:\n",
    "    def __init__(self, hairs: int = 4, width: tuple = (1, 2)):\n",
    "        self.hairs = hairs\n",
    "        self.width = width\n",
    "\n",
    "    def __call__(self, img):\n",
    "        if not self.hairs:\n",
    "            return img\n",
    "\n",
    "        width, height, _ = img.shape\n",
    "\n",
    "        for _ in range(random.randint(0, self.hairs)):\n",
    "            # The origin point of the line will always be at the top half of the image\n",
    "            origin = (random.randint(0, width), random.randint(0, height // 2))\n",
    "            # The end of the line\n",
    "            end = (random.randint(0, width), random.randint(0, height))\n",
    "            color = (0, 0, 0)  # color of the hair. Black.\n",
    "            cv2.line(\n",
    "                img, origin, end, color, random.randint(self.width[0], self.width[1])\n",
    "            )\n",
    "\n",
    "        return img\n",
    "\n",
    "    def __repr__(self):\n",
    "        return f\"{self.__class__.__name__}(hairs={self.hairs}, width={self.width})\""
   ]
  },
  {
   "cell_type": "code",
   "execution_count": 8,
   "metadata": {
    "execution": {
     "iopub.execute_input": "2021-06-01T04:00:26.809964Z",
     "iopub.status.busy": "2021-06-01T04:00:26.809536Z",
     "iopub.status.idle": "2021-06-01T04:00:26.822445Z",
     "shell.execute_reply": "2021-06-01T04:00:26.821497Z",
     "shell.execute_reply.started": "2021-06-01T04:00:26.809924Z"
    }
   },
   "outputs": [],
   "source": [
    "class Microscope:\n",
    "    def __init__(self, p: float = 0.5):\n",
    "        self.p = p\n",
    "\n",
    "    def __call__(self, img):\n",
    "        if random.random() < self.p:\n",
    "            circle = cv2.circle(\n",
    "                (np.ones(img.shape) * 255).astype(np.uint8),  # image placeholder\n",
    "                (img.shape[0] // 2, img.shape[1] // 2),  # center point of circle\n",
    "                random.randint(img.shape[0] // 2 - 3, img.shape[0] // 2 + 15),  # radius\n",
    "                (0, 0, 0),  # color\n",
    "                -1,\n",
    "            )\n",
    "\n",
    "            mask = circle - 255\n",
    "            img = np.multiply(img, mask)\n",
    "\n",
    "        return img\n",
    "\n",
    "    def __repr__(self):\n",
    "        return f\"{self.__class__.__name__}(p={self.p})\""
   ]
  },
  {
   "cell_type": "code",
   "execution_count": 9,
   "metadata": {
    "execution": {
     "iopub.execute_input": "2021-06-01T04:00:26.824695Z",
     "iopub.status.busy": "2021-06-01T04:00:26.823888Z",
     "iopub.status.idle": "2021-06-01T04:00:26.838500Z",
     "shell.execute_reply": "2021-06-01T04:00:26.837104Z",
     "shell.execute_reply.started": "2021-06-01T04:00:26.824644Z"
    }
   },
   "outputs": [],
   "source": [
    "train_transform = transforms.Compose(\n",
    "    [\n",
    "        AdvancedHairAugmentation(hairs_folder=\"/kaggle/input/melanoma-hairs\"),\n",
    "        transforms.RandomResizedCrop(size=256, scale=(0.8, 1.0)),\n",
    "        transforms.RandomHorizontalFlip(),\n",
    "        transforms.RandomVerticalFlip(),\n",
    "        Microscope(p=0.5),\n",
    "        transforms.ToTensor(),\n",
    "        transforms.Normalize(mean=[0.485, 0.456, 0.406], std=[0.229, 0.224, 0.225]),\n",
    "    ]\n",
    ")\n",
    "test_transform = transforms.Compose(\n",
    "    [\n",
    "        transforms.ToTensor(),\n",
    "        transforms.Normalize(mean=[0.485, 0.456, 0.406], std=[0.229, 0.224, 0.225]),\n",
    "    ]\n",
    ")"
   ]
  },
  {
   "cell_type": "code",
   "execution_count": 10,
   "metadata": {
    "execution": {
     "iopub.execute_input": "2021-06-01T04:00:26.841190Z",
     "iopub.status.busy": "2021-06-01T04:00:26.840822Z",
     "iopub.status.idle": "2021-06-01T04:00:27.024237Z",
     "shell.execute_reply": "2021-06-01T04:00:27.023126Z",
     "shell.execute_reply.started": "2021-06-01T04:00:26.841156Z"
    }
   },
   "outputs": [
    {
     "name": "stdout",
     "output_type": "stream",
     "text": [
      "Loaded pretrained weights for efficientnet-b1\n"
     ]
    }
   ],
   "source": [
    "arch = EfficientNet.from_pretrained('efficientnet-b1')"
   ]
  },
  {
   "cell_type": "code",
   "execution_count": 11,
   "metadata": {
    "execution": {
     "iopub.execute_input": "2021-06-01T04:00:27.026143Z",
     "iopub.status.busy": "2021-06-01T04:00:27.025782Z",
     "iopub.status.idle": "2021-06-01T04:00:27.098440Z",
     "shell.execute_reply": "2021-06-01T04:00:27.097680Z",
     "shell.execute_reply.started": "2021-06-01T04:00:27.026105Z"
    }
   },
   "outputs": [],
   "source": [
    "train_df = pd.read_csv(\"/kaggle/input/jpeg-melanoma-256x256/train.csv\")"
   ]
  },
  {
   "cell_type": "code",
   "execution_count": 12,
   "metadata": {
    "execution": {
     "iopub.execute_input": "2021-06-01T04:00:27.100728Z",
     "iopub.status.busy": "2021-06-01T04:00:27.100449Z",
     "iopub.status.idle": "2021-06-01T04:00:27.145135Z",
     "shell.execute_reply": "2021-06-01T04:00:27.144231Z",
     "shell.execute_reply.started": "2021-06-01T04:00:27.100685Z"
    }
   },
   "outputs": [],
   "source": [
    "# One-hot encoding of anatom_site_general_challenge feature\n",
    "dummies = pd.get_dummies(\n",
    "    train_df[\"anatom_site_general_challenge\"],\n",
    "    dummy_na=True,\n",
    "    dtype=np.uint8,\n",
    "    prefix=\"site\",\n",
    ")\n",
    "train_df = pd.concat([train_df, dummies.iloc[: train_df.shape[0]]], axis=1)\n",
    "\n",
    "# Sex features\n",
    "train_df[\"sex\"] = train_df[\"sex\"].map({\"male\": 1, \"female\": 0})\n",
    "train_df[\"sex\"] = train_df[\"sex\"].fillna(-1)\n",
    "\n",
    "# Age features\n",
    "train_df[\"age_approx\"] /= train_df[\"age_approx\"].max()\n",
    "train_df[\"age_approx\"] = train_df[\"age_approx\"].fillna(0)\n",
    "train_df[\"patient_id\"] = train_df[\"patient_id\"].fillna(0)"
   ]
  },
  {
   "cell_type": "code",
   "execution_count": 13,
   "metadata": {
    "execution": {
     "iopub.execute_input": "2021-06-01T04:00:27.146876Z",
     "iopub.status.busy": "2021-06-01T04:00:27.146525Z",
     "iopub.status.idle": "2021-06-01T04:00:27.153000Z",
     "shell.execute_reply": "2021-06-01T04:00:27.150316Z",
     "shell.execute_reply.started": "2021-06-01T04:00:27.146840Z"
    }
   },
   "outputs": [],
   "source": [
    "meta_features = ['sex', 'age_approx'] + [col for col in train_df.columns if 'site_' in col]\n",
    "meta_features.remove('anatom_site_general_challenge')"
   ]
  },
  {
   "cell_type": "code",
   "execution_count": 14,
   "metadata": {
    "execution": {
     "iopub.execute_input": "2021-06-01T04:00:27.155610Z",
     "iopub.status.busy": "2021-06-01T04:00:27.155147Z",
     "iopub.status.idle": "2021-06-01T04:00:27.176025Z",
     "shell.execute_reply": "2021-06-01T04:00:27.175121Z",
     "shell.execute_reply.started": "2021-06-01T04:00:27.155568Z"
    }
   },
   "outputs": [],
   "source": [
    "from sklearn.model_selection import train_test_split\n",
    "\n",
    "X = train_df.drop(\"target\", axis=1)\n",
    "y = train_df[\"target\"]\n",
    "\n",
    "X_train, X_test, y_train, y_test = train_test_split(\n",
    "    X, y, test_size=0.2, random_state=42\n",
    ")"
   ]
  },
  {
   "cell_type": "code",
   "execution_count": 15,
   "metadata": {
    "execution": {
     "iopub.execute_input": "2021-06-01T04:00:27.177775Z",
     "iopub.status.busy": "2021-06-01T04:00:27.177403Z",
     "iopub.status.idle": "2021-06-01T04:00:27.183932Z",
     "shell.execute_reply": "2021-06-01T04:00:27.182878Z",
     "shell.execute_reply.started": "2021-06-01T04:00:27.177736Z"
    }
   },
   "outputs": [],
   "source": [
    "X_train[\"target\"] = y_train"
   ]
  },
  {
   "cell_type": "code",
   "execution_count": 16,
   "metadata": {
    "execution": {
     "iopub.execute_input": "2021-06-01T04:00:27.185940Z",
     "iopub.status.busy": "2021-06-01T04:00:27.185528Z",
     "iopub.status.idle": "2021-06-01T04:00:27.194790Z",
     "shell.execute_reply": "2021-06-01T04:00:27.193917Z",
     "shell.execute_reply.started": "2021-06-01T04:00:27.185901Z"
    }
   },
   "outputs": [],
   "source": [
    "test = MelanomaDataset(\n",
    "    df=X_test.reset_index(drop=True),\n",
    "    imfolder=\"/kaggle/input/melanoma-external-malignant-256/train/train/\",\n",
    "    train=False,\n",
    "    transforms=train_transform,  # For TTA\n",
    "    meta_features=meta_features,\n",
    ")"
   ]
  },
  {
   "cell_type": "code",
   "execution_count": 17,
   "metadata": {
    "execution": {
     "iopub.execute_input": "2021-06-01T04:00:27.196898Z",
     "iopub.status.busy": "2021-06-01T04:00:27.196623Z",
     "iopub.status.idle": "2021-06-01T04:00:27.204484Z",
     "shell.execute_reply": "2021-06-01T04:00:27.203326Z",
     "shell.execute_reply.started": "2021-06-01T04:00:27.196872Z"
    }
   },
   "outputs": [],
   "source": [
    "skf = GroupKFold(n_splits=5)"
   ]
  },
  {
   "cell_type": "code",
   "execution_count": 18,
   "metadata": {
    "execution": {
     "iopub.execute_input": "2021-06-01T04:00:27.206651Z",
     "iopub.status.busy": "2021-06-01T04:00:27.206186Z",
     "iopub.status.idle": "2021-06-01T06:10:09.865921Z",
     "shell.execute_reply": "2021-06-01T06:10:09.864887Z",
     "shell.execute_reply.started": "2021-06-01T04:00:27.206609Z"
    }
   },
   "outputs": [
    {
     "name": "stdout",
     "output_type": "stream",
     "text": [
      "==================== Fold 1 ====================\n",
      "Loaded pretrained weights for efficientnet-b1\n",
      "Epoch 001: | Loss: 28.769 | Train acc: 0.982 | Val acc: 0.981 | Val roc_auc: 0.845 | Training time: 0:04:27\n",
      "Epoch 002: | Loss: 25.071 | Train acc: 0.983 | Val acc: 0.981 | Val roc_auc: 0.757 | Training time: 0:04:26\n",
      "Epoch 003: | Loss: 24.892 | Train acc: 0.983 | Val acc: 0.981 | Val roc_auc: 0.878 | Training time: 0:04:24\n",
      "Epoch 004: | Loss: 23.991 | Train acc: 0.983 | Val acc: 0.981 | Val roc_auc: 0.879 | Training time: 0:04:26\n",
      "Epoch 005: | Loss: 24.023 | Train acc: 0.983 | Val acc: 0.981 | Val roc_auc: 0.828 | Training time: 0:04:25\n",
      "==================== Fold 2 ====================\n",
      "Loaded pretrained weights for efficientnet-b1\n",
      "Epoch 001: | Loss: 30.200 | Train acc: 0.979 | Val acc: 0.983 | Val roc_auc: 0.762 | Training time: 0:04:27\n",
      "Epoch 002: | Loss: 25.384 | Train acc: 0.982 | Val acc: 0.983 | Val roc_auc: 0.816 | Training time: 0:04:27\n",
      "Epoch 003: | Loss: 24.585 | Train acc: 0.982 | Val acc: 0.983 | Val roc_auc: 0.864 | Training time: 0:04:26\n",
      "Epoch 004: | Loss: 24.291 | Train acc: 0.982 | Val acc: 0.983 | Val roc_auc: 0.869 | Training time: 0:04:28\n",
      "Epoch 005: | Loss: 23.885 | Train acc: 0.982 | Val acc: 0.983 | Val roc_auc: 0.821 | Training time: 0:04:27\n",
      "==================== Fold 3 ====================\n",
      "Loaded pretrained weights for efficientnet-b1\n",
      "Epoch 001: | Loss: 29.031 | Train acc: 0.981 | Val acc: 0.983 | Val roc_auc: 0.761 | Training time: 0:04:29\n",
      "Epoch 002: | Loss: 25.301 | Train acc: 0.982 | Val acc: 0.983 | Val roc_auc: 0.808 | Training time: 0:04:28\n",
      "Epoch 003: | Loss: 25.010 | Train acc: 0.982 | Val acc: 0.983 | Val roc_auc: 0.819 | Training time: 0:04:29\n",
      "Epoch 004: | Loss: 24.636 | Train acc: 0.982 | Val acc: 0.983 | Val roc_auc: 0.799 | Training time: 0:04:28\n",
      "Epoch 005: | Loss: 24.038 | Train acc: 0.983 | Val acc: 0.983 | Val roc_auc: 0.857 | Training time: 0:04:30\n",
      "==================== Fold 4 ====================\n",
      "Loaded pretrained weights for efficientnet-b1\n",
      "Epoch 001: | Loss: 30.265 | Train acc: 0.979 | Val acc: 0.983 | Val roc_auc: 0.885 | Training time: 0:04:27\n",
      "Epoch 002: | Loss: 25.350 | Train acc: 0.982 | Val acc: 0.983 | Val roc_auc: 0.857 | Training time: 0:04:27\n",
      "Epoch 003: | Loss: 24.945 | Train acc: 0.982 | Val acc: 0.983 | Val roc_auc: 0.852 | Training time: 0:04:28\n",
      "Epoch     3: reducing learning rate of group 0 to 2.0000e-04.\n",
      "Epoch 004: | Loss: 22.899 | Train acc: 0.982 | Val acc: 0.983 | Val roc_auc: 0.888 | Training time: 0:04:27\n",
      "Epoch 005: | Loss: 21.772 | Train acc: 0.982 | Val acc: 0.983 | Val roc_auc: 0.889 | Training time: 0:04:26\n",
      "==================== Fold 5 ====================\n",
      "Loaded pretrained weights for efficientnet-b1\n",
      "Epoch 001: | Loss: 29.486 | Train acc: 0.979 | Val acc: 0.982 | Val roc_auc: 0.812 | Training time: 0:04:27\n",
      "Epoch 002: | Loss: 24.267 | Train acc: 0.982 | Val acc: 0.983 | Val roc_auc: 0.784 | Training time: 0:04:30\n",
      "Epoch 003: | Loss: 23.389 | Train acc: 0.982 | Val acc: 0.983 | Val roc_auc: 0.837 | Training time: 0:04:28\n",
      "Epoch 004: | Loss: 23.478 | Train acc: 0.982 | Val acc: 0.983 | Val roc_auc: 0.791 | Training time: 0:04:28\n",
      "Epoch 005: | Loss: 22.925 | Train acc: 0.982 | Val acc: 0.982 | Val roc_auc: 0.825 | Training time: 0:04:31\n",
      "Epoch     5: reducing learning rate of group 0 to 2.0000e-04.\n"
     ]
    }
   ],
   "source": [
    "epochs = 5\n",
    "es_patience = 3\n",
    "TTA = 3  # Test Time Augmentation rounds\n",
    "\n",
    "oof = np.zeros((len(X_train), 1))\n",
    "preds = torch.zeros((len(test), 1), dtype=torch.float32, device=device)\n",
    "\n",
    "for fold, (train_idx, val_idx) in enumerate(\n",
    "    skf.split(\n",
    "        X=np.zeros(len(X_train)),\n",
    "        y=X_train[\"target\"],\n",
    "        groups=X_train[\"patient_id\"].tolist(),\n",
    "    ),\n",
    "    1,\n",
    "):\n",
    "    print(\"=\" * 20, \"Fold\", fold, \"=\" * 20)\n",
    "\n",
    "    model_path = f\"model_{fold}.pth\"\n",
    "    best_val = 0\n",
    "    patience = es_patience\n",
    "    arch = EfficientNet.from_pretrained(\"efficientnet-b1\")\n",
    "    model = Net(arch=arch, n_meta_features=len(meta_features))\n",
    "    model = model.to(device)\n",
    "\n",
    "    optim = torch.optim.Adam(model.parameters(), lr=0.001)\n",
    "    scheduler = ReduceLROnPlateau(\n",
    "        optimizer=optim, mode=\"max\", patience=1, verbose=True, factor=0.2\n",
    "    )\n",
    "    criterion = nn.BCEWithLogitsLoss()\n",
    "\n",
    "    train = MelanomaDataset(\n",
    "        df=X_train.iloc[train_idx].reset_index(drop=True),\n",
    "        imfolder=\"/kaggle/input/melanoma-external-malignant-256/train/train/\",\n",
    "        train=True,\n",
    "        transforms=train_transform,\n",
    "        meta_features=meta_features,\n",
    "    )\n",
    "    val = MelanomaDataset(\n",
    "        df=X_train.iloc[val_idx].reset_index(drop=True),\n",
    "        imfolder=\"/kaggle/input/melanoma-external-malignant-256/train/train/\",\n",
    "        train=True,\n",
    "        transforms=test_transform,\n",
    "        meta_features=meta_features,\n",
    "    )\n",
    "\n",
    "    train_loader = DataLoader(dataset=train, batch_size=64, shuffle=True, num_workers=2)\n",
    "    val_loader = DataLoader(dataset=val, batch_size=16, shuffle=False, num_workers=2)\n",
    "    test_loader = DataLoader(dataset=test, batch_size=16, shuffle=False, num_workers=2)\n",
    "\n",
    "    for epoch in range(epochs):\n",
    "        start_time = time.time()\n",
    "        correct = 0\n",
    "        epoch_loss = 0\n",
    "        model.train()\n",
    "\n",
    "        for x, y in train_loader:\n",
    "            x[0] = torch.tensor(x[0], device=device, dtype=torch.float32)\n",
    "            x[1] = torch.tensor(x[1], device=device, dtype=torch.float32)\n",
    "            y = torch.tensor(y, device=device, dtype=torch.float32)\n",
    "            optim.zero_grad()\n",
    "            z = model(x)\n",
    "            loss = criterion(z, y.unsqueeze(1))\n",
    "            loss.backward()\n",
    "            optim.step()\n",
    "            pred = torch.round(torch.sigmoid(z))\n",
    "            correct += (pred.cpu() == y.cpu().unsqueeze(1)).sum().item()\n",
    "            epoch_loss += loss.item()\n",
    "        train_acc = correct / len(train_idx)\n",
    "\n",
    "        model.eval()\n",
    "        val_preds = torch.zeros((len(val_idx), 1), dtype=torch.float32, device=device)\n",
    "\n",
    "        with torch.no_grad():\n",
    "            for j, (x_val, y_val) in enumerate(val_loader):\n",
    "                x_val[0] = torch.tensor(x_val[0], device=device, dtype=torch.float32)\n",
    "                x_val[1] = torch.tensor(x_val[1], device=device, dtype=torch.float32)\n",
    "                y_val = torch.tensor(y_val, device=device, dtype=torch.float32)\n",
    "                z_val = model(x_val)\n",
    "                val_pred = torch.sigmoid(z_val)\n",
    "                val_preds[\n",
    "                    j * val_loader.batch_size : j * val_loader.batch_size\n",
    "                    + x_val[0].shape[0]\n",
    "                ] = val_pred\n",
    "            val_acc = accuracy_score(\n",
    "                X_train.iloc[val_idx][\"target\"].values, torch.round(val_preds.cpu())\n",
    "            )\n",
    "            val_roc = roc_auc_score(\n",
    "                X_train.iloc[val_idx][\"target\"].values, val_preds.cpu()\n",
    "            )\n",
    "\n",
    "            print(\n",
    "                \"Epoch {:03}: | Loss: {:.3f} | Train acc: {:.3f} | Val acc: {:.3f} | Val roc_auc: {:.3f} | Training time: {}\".format(\n",
    "                    epoch + 1,\n",
    "                    epoch_loss,\n",
    "                    train_acc,\n",
    "                    val_acc,\n",
    "                    val_roc,\n",
    "                    str(datetime.timedelta(seconds=time.time() - start_time))[:7],\n",
    "                )\n",
    "            )\n",
    "\n",
    "            scheduler.step(val_roc)\n",
    "\n",
    "            if val_roc >= best_val:\n",
    "                best_val = val_roc\n",
    "                patience = es_patience\n",
    "                torch.save(model, model_path)\n",
    "            else:\n",
    "                patience -= 1\n",
    "                if patience == 0:\n",
    "                    print(\"Early stopping. Best Val roc_auc: {:.3f}\".format(best_val))\n",
    "                    break\n",
    "\n",
    "    model = torch.load(model_path)\n",
    "    model.eval()\n",
    "    val_preds = torch.zeros((len(val_idx), 1), dtype=torch.float32, device=device)\n",
    "\n",
    "    with torch.no_grad():\n",
    "        for j, (x_val, y_val) in enumerate(val_loader):\n",
    "            x_val[0] = torch.tensor(x_val[0], device=device, dtype=torch.float32)\n",
    "            x_val[1] = torch.tensor(x_val[1], device=device, dtype=torch.float32)\n",
    "            y_val = torch.tensor(y_val, device=device, dtype=torch.float32)\n",
    "            z_val = model(x_val)\n",
    "            val_pred = torch.sigmoid(z_val)\n",
    "            val_preds[\n",
    "                j * val_loader.batch_size : j * val_loader.batch_size\n",
    "                + x_val[0].shape[0]\n",
    "            ] = val_pred\n",
    "        oof[val_idx] = val_preds.cpu().numpy()\n",
    "\n",
    "        tta_preds = torch.zeros((len(test), 1), dtype=torch.float32, device=device)\n",
    "        for _ in range(TTA):\n",
    "            for i, x_test in enumerate(test_loader):\n",
    "                x_test[0] = torch.tensor(x_test[0], device=device, dtype=torch.float32)\n",
    "                x_test[1] = torch.tensor(x_test[1], device=device, dtype=torch.float32)\n",
    "                z_test = model(x_test)\n",
    "                z_test = torch.sigmoid(z_test)\n",
    "                tta_preds[\n",
    "                    i * test_loader.batch_size : i * test_loader.batch_size\n",
    "                    + x_test[0].shape[0]\n",
    "                ] += z_test\n",
    "        preds += tta_preds / TTA\n",
    "\n",
    "preds /= skf.n_splits"
   ]
  },
  {
   "cell_type": "code",
   "execution_count": 29,
   "metadata": {
    "execution": {
     "iopub.execute_input": "2021-06-01T06:35:55.411660Z",
     "iopub.status.busy": "2021-06-01T06:35:55.411239Z",
     "iopub.status.idle": "2021-06-01T06:35:55.428452Z",
     "shell.execute_reply": "2021-06-01T06:35:55.427582Z",
     "shell.execute_reply.started": "2021-06-01T06:35:55.411622Z"
    }
   },
   "outputs": [
    {
     "name": "stdout",
     "output_type": "stream",
     "text": [
      "OOF: 0.85694\n",
      "Test Score: 0.87646\n"
     ]
    }
   ],
   "source": [
    "print(f\"OOF: {roc_auc_score(y_train, oof):.5f}\")\n",
    "print(f\"Test Score: {roc_auc_score(y_test.values, preds.cpu().numpy().flatten()):.5f}\")"
   ]
  },
  {
   "cell_type": "code",
   "execution_count": 30,
   "metadata": {
    "execution": {
     "iopub.execute_input": "2021-06-01T06:35:59.785273Z",
     "iopub.status.busy": "2021-06-01T06:35:59.784955Z",
     "iopub.status.idle": "2021-06-01T06:35:59.951532Z",
     "shell.execute_reply": "2021-06-01T06:35:59.950585Z",
     "shell.execute_reply.started": "2021-06-01T06:35:59.785243Z"
    },
    "scrolled": true
   },
   "outputs": [
    {
     "data": {
      "image/png": "[encoded data removed]",
      "text/plain": [
       "<Figure size 432x288 with 1 Axes>"
      ]
     },
     "metadata": {
      "needs_background": "light"
     },
     "output_type": "display_data"
    }
   ],
   "source": [
    "sns.kdeplot(\n",
    "    pd.Series(\n",
    "        preds.cpu()\n",
    "        .numpy()\n",
    "        .reshape(\n",
    "            -1,\n",
    "        )\n",
    "    )\n",
    ")"
   ]
  },
  {
   "cell_type": "code",
   "execution_count": 31,
   "metadata": {
    "execution": {
     "iopub.execute_input": "2021-06-01T06:36:03.174568Z",
     "iopub.status.busy": "2021-06-01T06:36:03.174213Z",
     "iopub.status.idle": "2021-06-01T06:36:03.619311Z",
     "shell.execute_reply": "2021-06-01T06:36:03.618529Z",
     "shell.execute_reply.started": "2021-06-01T06:36:03.174519Z"
    }
   },
   "outputs": [],
   "source": [
    "# Saving OOF predictions so stacking would be easier\n",
    "pd.Series(\n",
    "    oof.reshape(\n",
    "        -1,\n",
    "    )\n",
    ").to_csv(\"oof.csv\", index=False)"
   ]
  },
  {
   "cell_type": "code",
   "execution_count": 32,
   "metadata": {
    "execution": {
     "iopub.execute_input": "2021-06-01T06:36:06.813876Z",
     "iopub.status.busy": "2021-06-01T06:36:06.813528Z",
     "iopub.status.idle": "2021-06-01T06:36:06.848127Z",
     "shell.execute_reply": "2021-06-01T06:36:06.847458Z",
     "shell.execute_reply.started": "2021-06-01T06:36:06.813843Z"
    }
   },
   "outputs": [],
   "source": [
    "sub = pd.DataFrame(X_test[\"image_name\"])\n",
    "sub[\"target\"] = (\n",
    "    preds.cpu()\n",
    "    .numpy()\n",
    "    .reshape(\n",
    "        -1,\n",
    "    )\n",
    ")\n",
    "sub.to_csv(\"submission.csv\", index=False)"
   ]
  }
 ],
 "metadata": {
  "kernelspec": {
   "display_name": "Python 3",
   "language": "python",
   "name": "python3"
  },
  "language_info": {
   "codemirror_mode": {
    "name": "ipython",
    "version": 3
   },
   "file_extension": ".py",
   "mimetype": "text/x-python",
   "name": "python",
   "nbconvert_exporter": "python",
   "pygments_lexer": "ipython3",
   "version": "3.8.8"
  }
 },
 "nbformat": 4,
 "nbformat_minor": 4
}
